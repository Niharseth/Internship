{
 "cells": [
  {
   "cell_type": "markdown",
   "id": "ff1cf077",
   "metadata": {},
   "source": [
    "# Assignment- Regular Expression"
   ]
  },
  {
   "cell_type": "markdown",
   "id": "337f580a",
   "metadata": {},
   "source": [
    "Question 1- Write a Python program to check that a string contains only a certain set of characters (in this case a-z, A-Z and 0-9)."
   ]
  },
  {
   "cell_type": "code",
   "execution_count": 1,
   "id": "c3e53e35",
   "metadata": {},
   "outputs": [],
   "source": [
    "import regex as re"
   ]
  },
  {
   "cell_type": "code",
   "execution_count": 5,
   "id": "109f57a2",
   "metadata": {},
   "outputs": [
    {
     "name": "stdout",
     "output_type": "stream",
     "text": [
      "['s', 't', 'r', 'i', 'n', 'g']\n"
     ]
    }
   ],
   "source": [
    "string1=\"string\"\n",
    "x=re.findall(\"[a-z]\",string1)\n",
    "print(x)"
   ]
  },
  {
   "cell_type": "markdown",
   "id": "367622f0",
   "metadata": {},
   "source": [
    "Question 2- Create a function in python that matches a string that has an a followed by zero or more b's"
   ]
  },
  {
   "cell_type": "code",
   "execution_count": 15,
   "id": "2684fb5e",
   "metadata": {},
   "outputs": [
    {
     "name": "stdout",
     "output_type": "stream",
     "text": [
      "<regex.Match object; span=(1, 1), match=''>\n"
     ]
    }
   ],
   "source": [
    "text=\"a\"\n",
    "search=re.search(\"(b*)$\",text)\n",
    "print(search)"
   ]
  },
  {
   "cell_type": "markdown",
   "id": "8c8788c0",
   "metadata": {},
   "source": [
    "Question 3-  Create a function in python that matches a string that has an a followed by one or more b's"
   ]
  },
  {
   "cell_type": "code",
   "execution_count": 22,
   "id": "3d4dbf64",
   "metadata": {},
   "outputs": [
    {
     "name": "stdout",
     "output_type": "stream",
     "text": [
      "None\n"
     ]
    }
   ],
   "source": [
    "text=\"a\"\n",
    "search=re.search(\"ab+?\",text)\n",
    "print(search)"
   ]
  },
  {
   "cell_type": "markdown",
   "id": "cbc00472",
   "metadata": {},
   "source": [
    "Question 4- Create a function in Python and use RegEx that matches a string that has an a followed by zero or one 'b'."
   ]
  },
  {
   "cell_type": "code",
   "execution_count": 2,
   "id": "0403a60e",
   "metadata": {},
   "outputs": [
    {
     "name": "stdout",
     "output_type": "stream",
     "text": [
      "<regex.Match object; span=(0, 1), match='a'>\n"
     ]
    }
   ],
   "source": [
    "text=\"a\"\n",
    "search=re.search(\"ab?\",text)\n",
    "print(search)"
   ]
  },
  {
   "cell_type": "markdown",
   "id": "bcb78497",
   "metadata": {},
   "source": [
    "Question 5- Write a Python program that matches a string that has an a followed by three 'b'."
   ]
  },
  {
   "cell_type": "code",
   "execution_count": 4,
   "id": "3d7c08d5",
   "metadata": {},
   "outputs": [
    {
     "name": "stdout",
     "output_type": "stream",
     "text": [
      "<regex.Match object; span=(0, 4), match='abbb'>\n"
     ]
    }
   ],
   "source": [
    "text=\"abbb\"\n",
    "search=re.search(\"ab{3}?\",text)\n",
    "print(search)"
   ]
  },
  {
   "cell_type": "markdown",
   "id": "ea43152f",
   "metadata": {},
   "source": [
    "Question 6- Write a regular expression in Python to split a string into uppercase letters.\n",
    "Sample text: “ImportanceOfRegularExpressionsInPython”\n",
    "Output: [‘Importance’, ‘Of’, ‘Regular’, ‘Expression’, ‘In’, ‘Python’]\n"
   ]
  },
  {
   "cell_type": "code",
   "execution_count": 5,
   "id": "487c85b3",
   "metadata": {},
   "outputs": [
    {
     "name": "stdout",
     "output_type": "stream",
     "text": [
      "['Importance', 'Of', 'Regular', 'Expressions', 'In', 'Python']\n"
     ]
    }
   ],
   "source": [
    "import re\n",
    "pattern=\"[A-Z][^A-Z]*\"\n",
    "text=\"ImportanceOfRegularExpressionsInPython\"\n",
    "matches=re.findall(pattern,text)\n",
    "print(matches)"
   ]
  },
  {
   "cell_type": "markdown",
   "id": "812d4c76",
   "metadata": {},
   "source": [
    "Question 7- Write a Python program that matches a string that has an a followed by two to three 'b'."
   ]
  },
  {
   "cell_type": "code",
   "execution_count": 15,
   "id": "da074759",
   "metadata": {},
   "outputs": [
    {
     "name": "stdout",
     "output_type": "stream",
     "text": [
      "<re.Match object; span=(1, 5), match='abbb'>\n"
     ]
    }
   ],
   "source": [
    "text=\"aabbbbbc\"\n",
    "search=re.search(\"ab{2,3}\",text)\n",
    "print(search)"
   ]
  },
  {
   "cell_type": "markdown",
   "id": "b9fa5d1f",
   "metadata": {},
   "source": [
    "Question 8- Write a Python program to find sequences of lowercase letters joined with a underscore."
   ]
  },
  {
   "cell_type": "code",
   "execution_count": 21,
   "id": "83c6bd38",
   "metadata": {},
   "outputs": [
    {
     "name": "stdout",
     "output_type": "stream",
     "text": [
      "Matched\n",
      "Not matched\n",
      "Not matched\n"
     ]
    }
   ],
   "source": [
    "def text_match(text):\n",
    "        patterns = '^[a-z]+_[a-z]+$'\n",
    "        if re.search(patterns,  text):\n",
    "                return 'Matched'\n",
    "        else:\n",
    "                return('Not matched')\n",
    "\n",
    "print(text_match(\"aab_cbbbc\"))\n",
    "print(text_match(\"aab_Abbbc\"))\n",
    "print(text_match(\"Aaab_abbbc\"))"
   ]
  },
  {
   "cell_type": "markdown",
   "id": "ce7bb383",
   "metadata": {},
   "source": [
    "Question 9- Write a Python program that matches a string that has an 'a' followed by anything, ending in 'b'."
   ]
  },
  {
   "cell_type": "code",
   "execution_count": 22,
   "id": "437773c8",
   "metadata": {},
   "outputs": [
    {
     "name": "stdout",
     "output_type": "stream",
     "text": [
      "Not matched\n",
      "Not matched\n",
      "Found a match\n"
     ]
    }
   ],
   "source": [
    "def text_match(text):\n",
    "        patterns = 'a.*?b$'\n",
    "        if re.search(patterns,  text):\n",
    "                return 'Found a match'\n",
    "        else:\n",
    "                return('Not matched')\n",
    "\n",
    "print(text_match(\"aabbbbvfddd\"))\n",
    "print(text_match(\"aabAbbbzsccc\"))\n",
    "print(text_match(\"accddbbjjddfdssb\"))\n"
   ]
  },
  {
   "cell_type": "markdown",
   "id": "39eed772",
   "metadata": {},
   "source": [
    "Question 10- Write a Python program that matches a word at the beginning of a string."
   ]
  },
  {
   "cell_type": "code",
   "execution_count": 10,
   "id": "c25b195c",
   "metadata": {},
   "outputs": [
    {
     "name": "stdout",
     "output_type": "stream",
     "text": [
      "     Virat Kohli has scored 75 Centuries\n",
      "Virat Kohli has scored 75 Centuries\n"
     ]
    }
   ],
   "source": [
    "target_string=\"     Virat Kohli has scored 75 Centuries\"\n",
    "print(target_string)\n",
    "res_str=re.sub(r\"^\\s+\",\"\",target_string)\n",
    "print(res_str)"
   ]
  },
  {
   "cell_type": "markdown",
   "id": "ecdc3d1f",
   "metadata": {},
   "source": [
    "Question 11- Write a Python program to match a string that contains only upper and lowercase letters, numbers, and underscores."
   ]
  },
  {
   "cell_type": "code",
   "execution_count": 14,
   "id": "c52f6197",
   "metadata": {},
   "outputs": [
    {
     "name": "stdout",
     "output_type": "stream",
     "text": [
      "<re.Match object; span=(0, 41), match='Rohit_Sharma_has_scored_100_in_last_Match'>\n"
     ]
    }
   ],
   "source": [
    "text=\"Rohit_Sharma_has_scored_100_in_last_Match\"\n",
    "pattern=\"^[a-zA-Z0-9_]*$\"\n",
    "search=re.search(pattern,text)\n",
    "print(search)"
   ]
  },
  {
   "cell_type": "markdown",
   "id": "e59e5951",
   "metadata": {},
   "source": [
    "Question 12- Write a Python program where a string will start with a specific number"
   ]
  },
  {
   "cell_type": "code",
   "execution_count": 16,
   "id": "4b703ed6",
   "metadata": {},
   "outputs": [
    {
     "name": "stdout",
     "output_type": "stream",
     "text": [
      "True\n"
     ]
    }
   ],
   "source": [
    "text=\"5addfgvv\"\n",
    "p=text.startswith('5')\n",
    "print(p)"
   ]
  },
  {
   "cell_type": "markdown",
   "id": "e3dd609f",
   "metadata": {},
   "source": [
    "Question 13- Write a Python program to remove leading zeros from an IP address"
   ]
  },
  {
   "cell_type": "code",
   "execution_count": 18,
   "id": "4fba581f",
   "metadata": {},
   "outputs": [
    {
     "name": "stdout",
     "output_type": "stream",
     "text": [
      "654.9.94.16\n"
     ]
    }
   ],
   "source": [
    "ip = \"654.09.094.016\"\n",
    "string = re.sub('\\.[0]*', '.', ip)\n",
    "print(string)"
   ]
  },
  {
   "cell_type": "markdown",
   "id": "adbaee1a",
   "metadata": {},
   "source": [
    "Question 14- Write a regular expression in python to match a date string in the form of Month name followed by day number and year stored in a text file.\n",
    "Sample text : ' On August 15th 1947 that India was declared independent from British colonialism, and the reins of control were handed over to the leaders of the Country’.\n",
    "Output- August 15th 1947\n",
    "Hint- Use re.match() method here\n"
   ]
  },
  {
   "cell_type": "code",
   "execution_count": 26,
   "id": "3ac594dd",
   "metadata": {},
   "outputs": [
    {
     "name": "stdout",
     "output_type": "stream",
     "text": [
      "None\n"
     ]
    }
   ],
   "source": [
    "text=\"On August 15th 1947 that India was declared independent from British colonialism, and the reins of control were handed over to the leaders of the Country\"\n",
    "pattern='August 15th 1947'\n",
    "result=re.match(pattern,text)\n",
    "print(result)"
   ]
  },
  {
   "cell_type": "markdown",
   "id": "0327cbb7",
   "metadata": {},
   "source": [
    "Question 15- Write a Python program to search some literals strings in a string. Go to the editor\n",
    "Sample text : 'The quick brown fox jumps over the lazy dog.'\n",
    "Searched words : 'fox', 'dog', 'horse'\n"
   ]
  },
  {
   "cell_type": "code",
   "execution_count": 34,
   "id": "551ea431",
   "metadata": {},
   "outputs": [
    {
     "name": "stdout",
     "output_type": "stream",
     "text": [
      "<re.Match object; span=(15, 18), match='fox'>\n",
      "<re.Match object; span=(39, 42), match='dog'>\n",
      "None\n"
     ]
    }
   ],
   "source": [
    "msgs=['he quick brown fox jumps over the lazy dog.']\n",
    "for msgs in msgs:\n",
    "    search=re.search(\"fox\",msgs)\n",
    "    print(search)\n",
    "    search1=re.search(\"dog\",msgs)\n",
    "    print(search1)\n",
    "    search2=re.search(\"horse\",msgs)\n",
    "    print(search2)"
   ]
  },
  {
   "cell_type": "markdown",
   "id": "decc4c93",
   "metadata": {},
   "source": [
    "Question 16- Write a Python program to search a literals string in a string and also find the location within the original string where the pattern occurs\n",
    "Sample text : 'The quick brown fox jumps over the lazy dog.'\n",
    "Searched words : 'fox'\n"
   ]
  },
  {
   "cell_type": "code",
   "execution_count": 2,
   "id": "dbee7981",
   "metadata": {},
   "outputs": [
    {
     "name": "stdout",
     "output_type": "stream",
     "text": [
      "<regex.Match object; span=(16, 19), match='fox'>\n"
     ]
    }
   ],
   "source": [
    "msgs=['The quick brown fox jumps over the lazy dog']\n",
    "for msgs in msgs:\n",
    "    search=re.search(\"fox\",msgs)\n",
    "    print(search)"
   ]
  },
  {
   "cell_type": "markdown",
   "id": "4913a020",
   "metadata": {},
   "source": [
    "Question 17- Write a Python program to find the substrings within a string.\n",
    "Sample text : 'Python exercises, PHP exercises, C# exercises'\n",
    "Pattern : 'exercises'.\n"
   ]
  },
  {
   "cell_type": "code",
   "execution_count": 3,
   "id": "ba8294da",
   "metadata": {},
   "outputs": [
    {
     "name": "stdout",
     "output_type": "stream",
     "text": [
      "['exercises', 'exercises', 'exercises']\n"
     ]
    }
   ],
   "source": [
    "text=\"Python exercises, PHP exercises, C# exercises\"\n",
    "pattern=\"exercises\"\n",
    "matches=re.findall(pattern,text)\n",
    "print(matches)"
   ]
  },
  {
   "cell_type": "markdown",
   "id": "013dcbc0",
   "metadata": {},
   "source": [
    "Question 18- Write a Python program to find the occurrence and position of the substrings within a string."
   ]
  },
  {
   "cell_type": "code",
   "execution_count": 4,
   "id": "64baa895",
   "metadata": {},
   "outputs": [
    {
     "name": "stdout",
     "output_type": "stream",
     "text": [
      "<regex.Match object; span=(7, 16), match='exercises'>\n"
     ]
    }
   ],
   "source": [
    "msgs=['Python exercises, PHP exercises, C# exercises']\n",
    "for msgs in msgs:\n",
    "    search=re.search(\"exercises\",msgs)\n",
    "    print(search)"
   ]
  },
  {
   "cell_type": "markdown",
   "id": "93087b3c",
   "metadata": {},
   "source": [
    "Question 19- Write a Python program to convert a date of yyyy-mm-dd format to dd-mm-yyyy format."
   ]
  },
  {
   "cell_type": "code",
   "execution_count": 14,
   "id": "ba3ab735",
   "metadata": {},
   "outputs": [
    {
     "name": "stdout",
     "output_type": "stream",
     "text": [
      "Original date in YYY-MM-DD Format:  2026-01-02\n",
      "New date in DD-MM-YYYY Format:  02-01-2026\n"
     ]
    }
   ],
   "source": [
    "def change_date_format(dt):\n",
    "        return re.sub(r'(\\d{4})-(\\d{1,2})-(\\d{1,2})', '\\\\3-\\\\2-\\\\1', dt)\n",
    "dt1 = \"2026-01-02\"\n",
    "print(\"Original date in YYY-MM-DD Format: \",dt1)\n",
    "print(\"New date in DD-MM-YYYY Format: \",change_date_format(dt1))"
   ]
  },
  {
   "cell_type": "markdown",
   "id": "ccc6e2fa",
   "metadata": {},
   "source": [
    "Question 20- Write a Python program to find all words starting with 'a' or 'e' in a given string."
   ]
  },
  {
   "cell_type": "code",
   "execution_count": 15,
   "id": "5be3de5a",
   "metadata": {},
   "outputs": [
    {
     "name": "stdout",
     "output_type": "stream",
     "text": [
      "['ed', 'an', 'airplane', 'eally', 'etty']\n"
     ]
    }
   ],
   "source": [
    "text=\"Bruce turned an airplane into a really cool home with a pretty inside\"\n",
    "x = re.findall(\"[ae]\\w+\", text)\n",
    "print(x)"
   ]
  },
  {
   "cell_type": "markdown",
   "id": "5ad32758",
   "metadata": {},
   "source": [
    "Question 21- Write a Python program to separate and print the numbers and their position of a given string."
   ]
  },
  {
   "cell_type": "code",
   "execution_count": 2,
   "id": "5e058af5",
   "metadata": {},
   "outputs": [
    {
     "name": "stdout",
     "output_type": "stream",
     "text": [
      "100\n",
      "Index position: 53\n"
     ]
    }
   ],
   "source": [
    "text=\"You will Be The Head Coach While I Would Have Played 100 Games\"\n",
    "pattern=re.compile(\"\\d+\")\n",
    "for match in re.finditer(pattern,text):\n",
    "    print(match.group(0))\n",
    "    print(\"Index position:\", match.start())"
   ]
  },
  {
   "cell_type": "markdown",
   "id": "d7a2ea81",
   "metadata": {},
   "source": [
    "Question 22- Write a regular expression in python program to extract maximum numeric value from a string"
   ]
  },
  {
   "cell_type": "code",
   "execution_count": 3,
   "id": "e58b7877",
   "metadata": {},
   "outputs": [
    {
     "name": "stdout",
     "output_type": "stream",
     "text": [
      "Max_value: 4464\n"
     ]
    }
   ],
   "source": [
    "string='1bc125cf200c4464fhrjr'\n",
    "number = re.findall('\\d+', string)\n",
    "number = map(int, number)\n",
    "print(\"Max_value:\",max(number))\n"
   ]
  },
  {
   "cell_type": "markdown",
   "id": "1479c041",
   "metadata": {},
   "source": [
    "Question 23- Write a Regex in Python to put spaces between words starting with capital letters"
   ]
  },
  {
   "cell_type": "code",
   "execution_count": 6,
   "id": "28c3cc63",
   "metadata": {},
   "outputs": [
    {
     "name": "stdout",
     "output_type": "stream",
     "text": [
      "['Importance', 'Of', 'Regular', 'Expressions', 'In', 'Python']\n"
     ]
    }
   ],
   "source": [
    "text=\"ImportanceOfRegularExpressionsInPython\"\n",
    "pattern=\"[A-Z][a-z]*\"\n",
    "matches=re.findall(pattern,text)\n",
    "print(matches)"
   ]
  },
  {
   "cell_type": "markdown",
   "id": "5f322e43",
   "metadata": {},
   "source": [
    "Question 24- Python regex to find sequences of one upper case letter followed by lower case letters"
   ]
  },
  {
   "cell_type": "code",
   "execution_count": 10,
   "id": "b8ddbb3b",
   "metadata": {},
   "outputs": [
    {
     "name": "stdout",
     "output_type": "stream",
     "text": [
      "<regex.Match object; span=(0, 6), match='Python'>\n"
     ]
    }
   ],
   "source": [
    "text=\"Python\"\n",
    "x=re.search('[A-Z]+[a-z]+$',text)\n",
    "print(x)"
   ]
  },
  {
   "cell_type": "markdown",
   "id": "2ec187aa",
   "metadata": {},
   "source": [
    "Question 25- Write a Python program to remove duplicate words from Sentence using Regular Expression"
   ]
  },
  {
   "cell_type": "code",
   "execution_count": 11,
   "id": "fe33eee9",
   "metadata": {},
   "outputs": [
    {
     "name": "stdout",
     "output_type": "stream",
     "text": [
      "Regular line is simple\n"
     ]
    }
   ],
   "source": [
    "string=\"Regular Regular line is is simple\"\n",
    "regex=r'\\b(\\w+)(?:\\W+\\1\\b)+'\n",
    "x=re.sub(regex,r'\\1',string,flags=re.IGNORECASE)\n",
    "print(x)"
   ]
  },
  {
   "cell_type": "markdown",
   "id": "c7ad2822",
   "metadata": {},
   "source": [
    "Question 26-  Write a python program using RegEx to accept string ending with alphanumeric character."
   ]
  },
  {
   "cell_type": "code",
   "execution_count": 5,
   "id": "5666677b",
   "metadata": {},
   "outputs": [
    {
     "name": "stdout",
     "output_type": "stream",
     "text": [
      "<regex.Match object; span=(9, 10), match='4'>\n"
     ]
    }
   ],
   "source": [
    "string=\"Python1234\"\n",
    "pattern=\"[a-zA-z0-9]$\"\n",
    "x=re.search(pattern,string)\n",
    "print(x)"
   ]
  },
  {
   "cell_type": "markdown",
   "id": "8726f075",
   "metadata": {},
   "source": [
    "Question 27-Write a python program using RegEx to extract the hashtags.\n",
    "Sample Text: text = \"\"\"RT @kapil_kausik: #Doltiwal I mean #xyzabc is \"hurt\" by #Demonetization as the same has rendered USELESS <ed><U+00A0><U+00BD><ed><U+00B1><U+0089> \"acquired funds\" No wo\"\"\"\n",
    "Output: ['#Doltiwal', '#xyzabc', '#Demonetization']\n"
   ]
  },
  {
   "cell_type": "code",
   "execution_count": 13,
   "id": "ab2caa33",
   "metadata": {},
   "outputs": [
    {
     "data": {
      "text/plain": [
       "['#Doltiwal', '#xyzabc', '#Demonetization']"
      ]
     },
     "execution_count": 13,
     "metadata": {},
     "output_type": "execute_result"
    }
   ],
   "source": [
    "def extract_mentions(text):\n",
    "    regex = \"[#][^\\s#@]+\"\n",
    "    return re.findall(regex, str(text))\n",
    "\n",
    "string = 'RT @kapil_kausik: #Doltiwal I mean #xyzabc is \"hurt\" by #Demonetization as the same has rendered USELESS <U+00A0><U+00BD><U+00B1><U+0089> \"acquired funds\" No wo'\n",
    "mentions = extract_mentions(string)\n",
    "mentions"
   ]
  },
  {
   "cell_type": "markdown",
   "id": "a5c15c67",
   "metadata": {},
   "source": [
    "Question 28- Write a python program using RegEx to remove <U+..> like symbols\n",
    "Check the below sample text, there are strange symbols something of the sort <U+..> all over the place. You need to come up with a general Regex expression that will cover all such symbols.\n",
    "Sample Text: \"@Jags123456 Bharat band on 28??<ed><U+00A0><U+00BD><ed><U+00B8><U+0082>Those who  are protesting #demonetization  are all different party leaders\"\n",
    "Output: @Jags123456 Bharat band on 28??<ed><ed>Those who  are protesting #demonetization  are all different party leaders\n"
   ]
  },
  {
   "cell_type": "code",
   "execution_count": 31,
   "id": "eccdb94c",
   "metadata": {},
   "outputs": [
    {
     "name": "stdout",
     "output_type": "stream",
     "text": [
      " Jags123456 Bharat band on 28   U 00A0  U 00BD  U 00B8  U 0082 Those who are protesting  demonetization are all different party leaders\n"
     ]
    }
   ],
   "source": [
    "text=\"@Jags123456 Bharat band on 28??<U+00A0><U+00BD><U+00B8><U+0082>Those who are protesting #demonetization are all different party leaders\"\n",
    "x=re.sub(r'[^\\w]',\" \", text)\n",
    "print(x)"
   ]
  },
  {
   "cell_type": "markdown",
   "id": "1847ec4f",
   "metadata": {},
   "source": [
    "Question 29- Write a python program to extract dates from the text stored in the text file.\n",
    "Sample Text: Ron was born on 12-09-1992 and he was admitted to school 15-12-1999.\n",
    "Store this sample text in the file and then extract dates.\n"
   ]
  },
  {
   "cell_type": "code",
   "execution_count": 16,
   "id": "7c18c2ab",
   "metadata": {},
   "outputs": [
    {
     "name": "stdout",
     "output_type": "stream",
     "text": [
      "None\n"
     ]
    }
   ],
   "source": [
    "text=\"Ron was born on 12-09-1992 and he was admitted to school 15-12-1999.\"\n",
    "\n",
    "matches = re.search(r'(\\d+/\\d+/)',text)\n",
    "\n",
    "print(matches)"
   ]
  },
  {
   "cell_type": "markdown",
   "id": "e39c7d80",
   "metadata": {},
   "source": [
    "Question 30- Write a Python program to replace all occurrences of a space, comma, or dot with a colon.\n",
    "Sample Text- 'Python Exercises, PHP exercises.'\n",
    "Output: Python:Exercises::PHP:exercises:\n"
   ]
  },
  {
   "cell_type": "code",
   "execution_count": 17,
   "id": "68130235",
   "metadata": {},
   "outputs": [
    {
     "name": "stdout",
     "output_type": "stream",
     "text": [
      "Python:Exercises::PHP:exercises:\n"
     ]
    }
   ],
   "source": [
    "text = 'Python Exercises, PHP exercises.'\n",
    "print(re.sub(\"[ ,.]\", \":\", text))"
   ]
  },
  {
   "cell_type": "code",
   "execution_count": null,
   "id": "202b9003",
   "metadata": {},
   "outputs": [],
   "source": []
  }
 ],
 "metadata": {
  "kernelspec": {
   "display_name": "Python 3 (ipykernel)",
   "language": "python",
   "name": "python3"
  },
  "language_info": {
   "codemirror_mode": {
    "name": "ipython",
    "version": 3
   },
   "file_extension": ".py",
   "mimetype": "text/x-python",
   "name": "python",
   "nbconvert_exporter": "python",
   "pygments_lexer": "ipython3",
   "version": "3.9.13"
  }
 },
 "nbformat": 4,
 "nbformat_minor": 5
}
